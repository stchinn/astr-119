{
 "cells": [
  {
   "cell_type": "code",
   "execution_count": null,
   "id": "585debc7",
   "metadata": {},
   "outputs": [],
   "source": [
    "import numpy as np\n",
    "import matplotlib.pyplot as plt\n",
    "%matplotlib inline"
   ]
  },
  {
   "cell_type": "code",
   "execution_count": null,
   "id": "80aaeabc",
   "metadata": {},
   "outputs": [],
   "source": [
    "x = np.arange(0, 2 * np.pi, 0.001)\n",
    "y = np.arange(-1, 10)\n",
    "y = 5.5 * np.cos(2 * x) + 5.5\n",
    "a = 0.02 * np.exp(x)\n",
    "b = 0.25 * x**2  + 0.1 * np.sin(10 * x)\n",
    "plt.xlim(0, 2 * np.pi)\n",
    "plt.ylim(-1, 10)\n",
    "plt.plot(x, y)\n",
    "plt.plot(x, a)\n",
    "plt.plot(x, b)\n",
    "plt.xlabel(\"Time in ASTR 119\")\n",
    "plt.ylabel(\"Measures of Awesomeness\")\n",
    "plt.show()"
   ]
  },
  {
   "cell_type": "code",
   "execution_count": null,
   "id": "a2cff95d",
   "metadata": {},
   "outputs": [],
   "source": []
  }
 ],
 "metadata": {
  "kernelspec": {
   "display_name": "Python 3 (ipykernel)",
   "language": "python",
   "name": "python3"
  },
  "language_info": {
   "codemirror_mode": {
    "name": "ipython",
    "version": 3
   },
   "file_extension": ".py",
   "mimetype": "text/x-python",
   "name": "python",
   "nbconvert_exporter": "python",
   "pygments_lexer": "ipython3",
   "version": "3.9.7"
  }
 },
 "nbformat": 4,
 "nbformat_minor": 5
}
